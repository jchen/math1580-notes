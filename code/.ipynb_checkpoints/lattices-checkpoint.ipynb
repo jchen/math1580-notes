{
 "cells": [
  {
   "cell_type": "code",
   "execution_count": 1,
   "id": "762b1b8b",
   "metadata": {},
   "outputs": [],
   "source": [
    "def hadamard_ratio(L):\n",
    "    H = abs(L.det())\n",
    "    for v in L:\n",
    "        H /= v.norm()\n",
    "    return ((H ** (1 / L.dimensions()[0]))).n()\n",
    "\n",
    "def babai(L, w):\n",
    "    a = w * L.inverse()\n",
    "    a = a.apply_map(lambda x : x.round())\n",
    "    return (a, a * L)"
   ]
  },
  {
   "cell_type": "code",
   "execution_count": 2,
   "id": "d017a523",
   "metadata": {},
   "outputs": [],
   "source": [
    "def random_sl(n, ops, limit):\n",
    "    \"\"\"\n",
    "    Generates a random n x n matrix with determinant 1. \n",
    "    \"\"\"\n",
    "    L = identity_matrix(ZZ, n)\n",
    "    for _ in range(ops):\n",
    "        i = randrange(n)\n",
    "        j = randrange(n)\n",
    "        if i == j: \n",
    "            continue\n",
    "        L[i] += L[j] * randrange(-limit, limit)\n",
    "    return L"
   ]
  },
  {
   "cell_type": "code",
   "execution_count": 7,
   "id": "e73da442",
   "metadata": {},
   "outputs": [
    {
     "data": {
      "text/plain": [
       "0.912258079973938"
      ]
     },
     "execution_count": 7,
     "metadata": {},
     "output_type": "execute_result"
    }
   ],
   "source": [
    "goodbasis = random_matrix(ZZ, 3, x=-100, y=100)\n",
    "hadamard_ratio(goodbasis)"
   ]
  },
  {
   "cell_type": "code",
   "execution_count": 8,
   "id": "cacb9fb6",
   "metadata": {},
   "outputs": [
    {
     "data": {
      "text/plain": [
       "[-20  28  22]\n",
       "[-15 -13 -64]\n",
       "[-52 -23  36]"
      ]
     },
     "execution_count": 8,
     "metadata": {},
     "output_type": "execute_result"
    }
   ],
   "source": [
    "goodbasis"
   ]
  },
  {
   "cell_type": "code",
   "execution_count": 10,
   "id": "669e346a",
   "metadata": {},
   "outputs": [
    {
     "data": {
      "text/plain": [
       "[-3106827   214461 -6645911]\n",
       "[   36544    -2523    78185]\n",
       "[      75       76    -2355]"
      ]
     },
     "execution_count": 10,
     "metadata": {},
     "output_type": "execute_result"
    }
   ],
   "source": [
    "U = random_sl(3, 15, 100)\n",
    "U"
   ]
  },
  {
   "cell_type": "code",
   "execution_count": 12,
   "id": "e0a5bc25",
   "metadata": {
    "scrolled": false
   },
   "outputs": [
    {
     "data": {
      "text/plain": [
       "[ 404506997   63076804 -321328494]\n",
       "[  -4758655    -742224    3780100]\n",
       "[    119820      55277     -87994]"
      ]
     },
     "execution_count": 12,
     "metadata": {},
     "output_type": "execute_result"
    }
   ],
   "source": [
    "badbasis = U * goodbasis\n",
    "badbasis"
   ]
  },
  {
   "cell_type": "code",
   "execution_count": 13,
   "id": "37d85aed",
   "metadata": {
    "scrolled": true
   },
   "outputs": [
    {
     "data": {
      "text/plain": [
       "6.51609871159501e-6"
      ]
     },
     "execution_count": 13,
     "metadata": {},
     "output_type": "execute_result"
    }
   ],
   "source": [
    "hadamard_ratio(badbasis)"
   ]
  },
  {
   "cell_type": "code",
   "execution_count": 21,
   "id": "38025c72",
   "metadata": {},
   "outputs": [],
   "source": [
    "def sign(d):\n",
    "    \"\"\"\n",
    "    Signs document d\n",
    "    \"\"\"\n",
    "    return babai(goodbasis, d)[0] * U.inverse()"
   ]
  },
  {
   "cell_type": "code",
   "execution_count": 22,
   "id": "d6fa0d43",
   "metadata": {},
   "outputs": [],
   "source": [
    "def sign_eve(d):\n",
    "    return babai(badbasis, d)[0]"
   ]
  },
  {
   "cell_type": "code",
   "execution_count": 16,
   "id": "48537455",
   "metadata": {},
   "outputs": [],
   "source": [
    "def verify(d, s):\n",
    "    return (d - s * badbasis).norm().n()"
   ]
  },
  {
   "cell_type": "code",
   "execution_count": 18,
   "id": "818895cf",
   "metadata": {},
   "outputs": [
    {
     "data": {
      "text/plain": [
       "(392429, -599012, 317176)"
      ]
     },
     "execution_count": 18,
     "metadata": {},
     "output_type": "execute_result"
    }
   ],
   "source": [
    "d = random_vector(3, x=-10**6, y=10**6)\n",
    "d"
   ]
  },
  {
   "cell_type": "code",
   "execution_count": 23,
   "id": "b39950f4",
   "metadata": {},
   "outputs": [
    {
     "data": {
      "text/plain": [
       "(-944615899778, -80306700138342, -401762720495)"
      ]
     },
     "execution_count": 23,
     "metadata": {},
     "output_type": "execute_result"
    }
   ],
   "source": [
    "s = sign(d)\n",
    "s"
   ]
  },
  {
   "cell_type": "code",
   "execution_count": 24,
   "id": "b4188484",
   "metadata": {
    "scrolled": true
   },
   "outputs": [
    {
     "data": {
      "text/plain": [
       "21.6794833886788"
      ]
     },
     "execution_count": 24,
     "metadata": {},
     "output_type": "execute_result"
    }
   ],
   "source": [
    "verify(d, s)"
   ]
  },
  {
   "cell_type": "code",
   "execution_count": 25,
   "id": "1b32515e",
   "metadata": {},
   "outputs": [],
   "source": [
    "se = sign_eve(d)"
   ]
  },
  {
   "cell_type": "code",
   "execution_count": 26,
   "id": "0667a3f7",
   "metadata": {
    "scrolled": true
   },
   "outputs": [
    {
     "data": {
      "text/plain": [
       "6.47547688401770e7"
      ]
     },
     "execution_count": 26,
     "metadata": {},
     "output_type": "execute_result"
    }
   ],
   "source": [
    "verify(d, se)"
   ]
  }
 ],
 "metadata": {
  "kernelspec": {
   "display_name": "SageMath 9.5",
   "language": "sage",
   "name": "sagemath-9.5"
  },
  "language_info": {
   "codemirror_mode": {
    "name": "ipython",
    "version": 3
   },
   "file_extension": ".py",
   "mimetype": "text/x-python",
   "name": "python",
   "nbconvert_exporter": "python",
   "pygments_lexer": "ipython3",
   "version": "3.9.9"
  }
 },
 "nbformat": 4,
 "nbformat_minor": 5
}
