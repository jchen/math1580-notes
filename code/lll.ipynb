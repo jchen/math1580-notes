{
 "cells": [
  {
   "cell_type": "code",
   "execution_count": null,
   "metadata": {
    "vscode": {
     "languageId": "python"
    }
   },
   "outputs": [],
   "source": [
    "def LLL(L):\n",
    "    \"\"\"\n",
    "    Does LLL reduction on a lattice L. \n",
    "    \"\"\"\n",
    "    Lp = L.change_ring(QQ)\n",
    "    n = L.dimensions()[0]\n",
    "    k = 1\n",
    "    while k < n:\n",
    "        # Satisfy first condition\n",
    "        for j in range(k - 1, -1, -1):\n",
    "            mu = (L[k] * Lp[j]) / (Lp[j] * Lp[j])\n",
    "            L[k] -= mu.round() * L[j]\n",
    "        # Satisfy second condition\n",
    "        Lp[k] = L[k]\n",
    "        for j in range(k):\n",
    "            mu = (L[k] * Lp[j]) / (Lp[j] * Lp[j])\n",
    "            Lp[k] -= mu * Lp[j]\n",
    "        if Lp[k].norm()**2 >= (3/4 - mu**2) * Lp[k-1].norm()**2:\n",
    "            k += 1\n",
    "        else:\n",
    "            L[k-1], L[k] = L[k], L[k-1]\n",
    "            if k == 1:\n",
    "                Lp[0] = L[0]\n",
    "            else:\n",
    "                k -= 1\n",
    "    return L"
   ]
  },
  {
   "cell_type": "code",
   "execution_count": 2,
   "metadata": {
    "vscode": {
     "languageId": "python"
    }
   },
   "outputs": [
    {
     "data": {
      "text/plain": [
       "[ -6  44 -27]\n",
       "[ 61  63  87]\n",
       "[-42 -24   6]"
      ]
     },
     "execution_count": 2,
     "metadata": {},
     "output_type": "execute_result"
    }
   ],
   "source": [
    "L = random_matrix(ZZ, 3, x=-100, y=100)\n",
    "L"
   ]
  },
  {
   "cell_type": "code",
   "execution_count": 4,
   "metadata": {
    "vscode": {
     "languageId": "python"
    }
   },
   "outputs": [
    {
     "name": "stderr",
     "output_type": "stream",
     "text": [
      "UsageError: Invalid GUI request 'sage', valid ones are:dict_keys(['inline', 'nbagg', 'notebook', 'ipympl', 'widget', None, 'qt4', 'qt', 'qt5', 'wx', 'tk', 'gtk', 'gtk3', 'osx', 'asyncio'])\n"
     ]
    }
   ],
   "source": [
    "hadamard_ratio(L)"
   ]
  },
  {
   "cell_type": "code",
   "execution_count": null,
   "metadata": {
    "vscode": {
     "languageId": "python"
    }
   },
   "outputs": [],
   "source": [
    "M = LLL(L)\n",
    "haramard_ratio(M)"
   ]
  }
 ],
 "metadata": {
  "kernelspec": {
   "display_name": "SageMath 9.5",
   "language": "sage",
   "name": "SageMath-9.5"
  },
  "language_info": {
   "codemirror_mode": {
    "name": "ipython",
    "version": 3
   },
   "file_extension": ".py",
   "mimetype": "text/x-python",
   "name": "sage",
   "nbconvert_exporter": "python",
   "pygments_lexer": "ipython3",
   "version": "3.9.9"
  },
  "orig_nbformat": 4
 },
 "nbformat": 4,
 "nbformat_minor": 2
}
