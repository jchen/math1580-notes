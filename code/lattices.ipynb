{
 "cells": [
  {
   "cell_type": "code",
   "execution_count": 5,
   "id": "762b1b8b",
   "metadata": {
    "vscode": {
     "languageId": "python"
    }
   },
   "outputs": [],
   "source": [
    "n = 3\n",
    "goodbasis_threshold = 0.9\n",
    "badbasis_threshold = 1e-10\n",
    "size = 100\n",
    "\n",
    "def hadamard_ratio(L):\n",
    "    H = abs(L.det())\n",
    "    for v in L:\n",
    "        H /= v.norm()\n",
    "    return ((H ** (1 / L.dimensions()[0]))).n()\n",
    "\n",
    "def babai(L, w):\n",
    "    a = w * L.inverse()\n",
    "    a = a.apply_map(lambda x : x.round())\n",
    "    return (a, a * L)"
   ]
  },
  {
   "cell_type": "code",
   "execution_count": 6,
   "id": "d017a523",
   "metadata": {
    "vscode": {
     "languageId": "python"
    }
   },
   "outputs": [],
   "source": [
    "def random_sl(n, ops, limit):\n",
    "    \"\"\"\n",
    "    Generates a random n x n matrix with determinant 1. \n",
    "    \"\"\"\n",
    "    L = identity_matrix(ZZ, n)\n",
    "    for _ in range(ops):\n",
    "        i = randrange(n)\n",
    "        j = randrange(n)\n",
    "        if i == j: \n",
    "            continue\n",
    "        L[i] += L[j] * randrange(-limit, limit)\n",
    "    return L"
   ]
  },
  {
   "cell_type": "code",
   "execution_count": 7,
   "id": "e73da442",
   "metadata": {
    "vscode": {
     "languageId": "python"
    }
   },
   "outputs": [
    {
     "data": {
      "text/plain": [
       "0.910176977865485"
      ]
     },
     "execution_count": 7,
     "metadata": {},
     "output_type": "execute_result"
    }
   ],
   "source": [
    "goodbasis = random_matrix(ZZ, n, x=-size, y=size)\n",
    "\n",
    "while hadamard_ratio(goodbasis) < goodbasis_threshold:\n",
    "    goodbasis = random_matrix(ZZ, n, x=-size, y=size)\n",
    "\n",
    "hadamard_ratio(goodbasis)"
   ]
  },
  {
   "cell_type": "code",
   "execution_count": 8,
   "id": "cacb9fb6",
   "metadata": {
    "vscode": {
     "languageId": "python"
    }
   },
   "outputs": [
    {
     "data": {
      "text/plain": [
       "[ 68   0 -45]\n",
       "[ 51  -2  55]\n",
       "[ 61 -79 -25]"
      ]
     },
     "execution_count": 8,
     "metadata": {},
     "output_type": "execute_result"
    }
   ],
   "source": [
    "goodbasis"
   ]
  },
  {
   "cell_type": "code",
   "execution_count": 9,
   "id": "669e346a",
   "metadata": {
    "vscode": {
     "languageId": "python"
    }
   },
   "outputs": [
    {
     "data": {
      "text/plain": [
       "9.50899190268498e-11"
      ]
     },
     "execution_count": 9,
     "metadata": {},
     "output_type": "execute_result"
    }
   ],
   "source": [
    "U = random_sl(n, 15, 100)\n",
    "badbasis = U * goodbasis\n",
    "\n",
    "while hadamard_ratio(badbasis) > badbasis_threshold:\n",
    "    U = random_sl(n, 15, 100)\n",
    "    badbasis = U * goodbasis\n",
    "\n",
    "hadamard_ratio(badbasis)"
   ]
  },
  {
   "cell_type": "code",
   "execution_count": 10,
   "id": "9005f884",
   "metadata": {
    "vscode": {
     "languageId": "python"
    }
   },
   "outputs": [
    {
     "data": {
      "text/plain": [
       "[   115467533    -93359954  12356420838]\n",
       "[     1228378      -993191    131451285]\n",
       "[  2886741636  -2334041954 308916225871]"
      ]
     },
     "execution_count": 10,
     "metadata": {},
     "output_type": "execute_result"
    }
   ],
   "source": [
    "U"
   ]
  },
  {
   "cell_type": "code",
   "execution_count": 11,
   "id": "e0a5bc25",
   "metadata": {
    "scrolled": false,
    "vscode": {
     "languageId": "python"
    }
   },
   "outputs": [
    {
     "data": {
      "text/plain": [
       "[   756832105708   -975970526294   -319241357405]\n",
       "[     8051405348    -10382665133     -3396184640]\n",
       "[ 18921152069725 -24399713759901  -7981181327865]"
      ]
     },
     "execution_count": 11,
     "metadata": {},
     "output_type": "execute_result"
    }
   ],
   "source": [
    "badbasis"
   ]
  },
  {
   "cell_type": "code",
   "execution_count": 12,
   "id": "37d85aed",
   "metadata": {
    "scrolled": true,
    "vscode": {
     "languageId": "python"
    }
   },
   "outputs": [
    {
     "data": {
      "text/plain": [
       "9.50899190268498e-11"
      ]
     },
     "execution_count": 12,
     "metadata": {},
     "output_type": "execute_result"
    }
   ],
   "source": [
    "hadamard_ratio(badbasis)"
   ]
  },
  {
   "cell_type": "code",
   "execution_count": 13,
   "id": "38025c72",
   "metadata": {
    "vscode": {
     "languageId": "python"
    }
   },
   "outputs": [],
   "source": [
    "def sign(d):\n",
    "    \"\"\"\n",
    "    Signs document d\n",
    "    \"\"\"\n",
    "    return babai(goodbasis, d)[0] * U.inverse()"
   ]
  },
  {
   "cell_type": "code",
   "execution_count": 14,
   "id": "d6fa0d43",
   "metadata": {
    "vscode": {
     "languageId": "python"
    }
   },
   "outputs": [],
   "source": [
    "def sign_eve(d):\n",
    "    return babai(badbasis, d)[0]"
   ]
  },
  {
   "cell_type": "code",
   "execution_count": 15,
   "id": "48537455",
   "metadata": {
    "vscode": {
     "languageId": "python"
    }
   },
   "outputs": [],
   "source": [
    "def verify(d, s):\n",
    "    return (d - s * badbasis).norm().n()"
   ]
  },
  {
   "cell_type": "code",
   "execution_count": 16,
   "id": "818895cf",
   "metadata": {
    "vscode": {
     "languageId": "python"
    }
   },
   "outputs": [
    {
     "data": {
      "text/plain": [
       "(188904, 973626, 632830)"
      ]
     },
     "execution_count": 16,
     "metadata": {},
     "output_type": "execute_result"
    }
   ],
   "source": [
    "d = random_vector(n, x=-10**6, y=10**6)\n",
    "d"
   ]
  },
  {
   "cell_type": "code",
   "execution_count": 17,
   "id": "b39950f4",
   "metadata": {
    "vscode": {
     "languageId": "python"
    }
   },
   "outputs": [
    {
     "data": {
      "text/plain": [
       "(11919303804469, 16673781986, -476770442468)"
      ]
     },
     "execution_count": 17,
     "metadata": {},
     "output_type": "execute_result"
    }
   ],
   "source": [
    "s = sign(d)\n",
    "s"
   ]
  },
  {
   "cell_type": "code",
   "execution_count": 18,
   "id": "b4188484",
   "metadata": {
    "scrolled": true,
    "vscode": {
     "languageId": "python"
    }
   },
   "outputs": [
    {
     "data": {
      "text/plain": [
       "30.4138126514911"
      ]
     },
     "execution_count": 18,
     "metadata": {},
     "output_type": "execute_result"
    }
   ],
   "source": [
    "verify(d, s)"
   ]
  },
  {
   "cell_type": "code",
   "execution_count": 19,
   "id": "1b32515e",
   "metadata": {
    "vscode": {
     "languageId": "python"
    }
   },
   "outputs": [],
   "source": [
    "se = sign_eve(d)"
   ]
  },
  {
   "cell_type": "code",
   "execution_count": 20,
   "id": "0667a3f7",
   "metadata": {
    "scrolled": true,
    "vscode": {
     "languageId": "python"
    }
   },
   "outputs": [
    {
     "data": {
      "text/plain": [
       "1.03583091602060e12"
      ]
     },
     "execution_count": 20,
     "metadata": {},
     "output_type": "execute_result"
    }
   ],
   "source": [
    "verify(d, se)"
   ]
  },
  {
   "cell_type": "code",
   "execution_count": 21,
   "id": "1b5a9e3b",
   "metadata": {
    "vscode": {
     "languageId": "python"
    }
   },
   "outputs": [],
   "source": [
    "def e(m):\n",
    "    return m * badbasis + random_vector(ZZ, 3, x=-5, y=5)\n",
    "\n",
    "def d(c):\n",
    "    return babai(goodbasis, c)[0] * U.inverse()"
   ]
  },
  {
   "cell_type": "code",
   "execution_count": 22,
   "id": "c1462486",
   "metadata": {
    "vscode": {
     "languageId": "python"
    }
   },
   "outputs": [],
   "source": [
    "def d_eve(c):\n",
    "    return babai(badbasis, c)[0]"
   ]
  },
  {
   "cell_type": "code",
   "execution_count": 23,
   "id": "2bb92707",
   "metadata": {
    "vscode": {
     "languageId": "python"
    }
   },
   "outputs": [
    {
     "data": {
      "text/plain": [
       "(-183558, 111065, -279367)"
      ]
     },
     "execution_count": 23,
     "metadata": {},
     "output_type": "execute_result"
    }
   ],
   "source": [
    "m = random_vector(3, x=-10**6, y=10**6)\n",
    "m"
   ]
  },
  {
   "cell_type": "code",
   "execution_count": 24,
   "id": "f82b6e1a",
   "metadata": {
    "vscode": {
     "languageId": "python"
    }
   },
   "outputs": [
    {
     "data": {
      "text/plain": [
       "(-5423973848587437519, 6994468881124740072, 2287900791857166844)"
      ]
     },
     "execution_count": 24,
     "metadata": {},
     "output_type": "execute_result"
    }
   ],
   "source": [
    "c = e(m)\n",
    "c"
   ]
  },
  {
   "cell_type": "code",
   "execution_count": 25,
   "id": "fb4a6d0b",
   "metadata": {
    "vscode": {
     "languageId": "python"
    }
   },
   "outputs": [
    {
     "data": {
      "text/plain": [
       "(-183558, 111065, -279367)"
      ]
     },
     "execution_count": 25,
     "metadata": {},
     "output_type": "execute_result"
    }
   ],
   "source": [
    "assert(d(c) == m)\n",
    "d(c)"
   ]
  },
  {
   "cell_type": "code",
   "execution_count": 26,
   "id": "ed33eb87",
   "metadata": {
    "vscode": {
     "languageId": "python"
    }
   },
   "outputs": [
    {
     "data": {
      "text/plain": [
       "(-14593291, 90908, 297020)"
      ]
     },
     "execution_count": 26,
     "metadata": {},
     "output_type": "execute_result"
    }
   ],
   "source": [
    "assert(d_eve(c) != m)\n",
    "d_eve(c)"
   ]
  },
  {
   "cell_type": "code",
   "execution_count": 64,
   "id": "b7d503af",
   "metadata": {
    "vscode": {
     "languageId": "python"
    }
   },
   "outputs": [],
   "source": [
    "def gauss(L):\n",
    "    \"\"\"\n",
    "    2D Gaussian Lattice Reduction\n",
    "    \"\"\"\n",
    "    while True:\n",
    "        if L[1].norm() < L[0].norm():\n",
    "            L[0], L[1] = L[1], L[0]\n",
    "        mu = (L[1] * L[0]) / (L[0] * L[0])\n",
    "        L[1] -= mu.round() * L[0]\n",
    "        if -1/2 <= mu <= 1/2:\n",
    "            return L"
   ]
  },
  {
   "cell_type": "code",
   "execution_count": 65,
   "id": "9e9d7125",
   "metadata": {
    "vscode": {
     "languageId": "python"
    }
   },
   "outputs": [
    {
     "data": {
      "text/plain": [
       "[-20  48]\n",
       "[-80  91]"
      ]
     },
     "execution_count": 65,
     "metadata": {},
     "output_type": "execute_result"
    }
   ],
   "source": [
    "L = random_matrix(ZZ, 2, x=-100, y=100)\n",
    "L"
   ]
  },
  {
   "cell_type": "code",
   "execution_count": 66,
   "id": "84b9f696",
   "metadata": {
    "vscode": {
     "languageId": "python"
    }
   },
   "outputs": [
    {
     "data": {
      "text/plain": [
       "0.566219866764422"
      ]
     },
     "execution_count": 66,
     "metadata": {},
     "output_type": "execute_result"
    }
   ],
   "source": [
    "hadamard_ratio(L)"
   ]
  },
  {
   "cell_type": "code",
   "execution_count": 67,
   "id": "21e2374d",
   "metadata": {
    "vscode": {
     "languageId": "python"
    }
   },
   "outputs": [
    {
     "data": {
      "text/plain": [
       "[ 24346460 -27761945]\n",
       "[  -869840    991867]"
      ]
     },
     "execution_count": 67,
     "metadata": {},
     "output_type": "execute_result"
    }
   ],
   "source": [
    "U = random_sl(2, 15, 100)\n",
    "L_bad = U * L\n",
    "L_bad"
   ]
  },
  {
   "cell_type": "code",
   "execution_count": 68,
   "id": "000edc95",
   "metadata": {
    "vscode": {
     "languageId": "python"
    }
   },
   "outputs": [
    {
     "data": {
      "text/plain": [
       "6.43947122586721e-6"
      ]
     },
     "execution_count": 68,
     "metadata": {},
     "output_type": "execute_result"
    }
   ],
   "source": [
    "hadamard_ratio(L_bad)"
   ]
  },
  {
   "cell_type": "code",
   "execution_count": 69,
   "id": "42401424",
   "metadata": {
    "vscode": {
     "languageId": "python"
    }
   },
   "outputs": [
    {
     "data": {
      "text/plain": [
       "[-40  -5]\n",
       "[-20  48]"
      ]
     },
     "execution_count": 69,
     "metadata": {},
     "output_type": "execute_result"
    }
   ],
   "source": [
    "L_better = gauss(L_bad)\n",
    "L_better"
   ]
  },
  {
   "cell_type": "code",
   "execution_count": 70,
   "id": "e37b1e87",
   "metadata": {
    "vscode": {
     "languageId": "python"
    }
   },
   "outputs": [
    {
     "data": {
      "text/plain": [
       "0.981659042857473"
      ]
     },
     "execution_count": 70,
     "metadata": {},
     "output_type": "execute_result"
    }
   ],
   "source": [
    "hadamard_ratio(L_better)"
   ]
  }
 ],
 "metadata": {
  "kernelspec": {
   "display_name": "SageMath 9.5",
   "language": "sage",
   "name": "SageMath-9.5"
  },
  "language_info": {
   "codemirror_mode": {
    "name": "ipython",
    "version": 3
   },
   "file_extension": ".py",
   "mimetype": "text/x-python",
   "name": "sage",
   "nbconvert_exporter": "python",
   "pygments_lexer": "ipython3",
   "version": "3.9.9"
  }
 },
 "nbformat": 4,
 "nbformat_minor": 5
}
